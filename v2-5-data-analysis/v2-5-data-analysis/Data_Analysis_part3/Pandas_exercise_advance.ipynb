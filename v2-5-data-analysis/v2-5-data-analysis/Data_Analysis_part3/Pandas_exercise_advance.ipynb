{
 "cells": [
  {
   "cell_type": "markdown",
   "metadata": {},
   "source": [
    "## $\\Large{Pandas\\; Exercise\\; Advanced}$"
   ]
  },
  {
   "cell_type": "code",
   "execution_count": null,
   "metadata": {},
   "outputs": [],
   "source": [
    "import pandas as pd\n",
    "import numpy as np"
   ]
  },
  {
   "cell_type": "markdown",
   "metadata": {},
   "source": [
    "---\n",
    "# Airline dataset"
   ]
  },
  {
   "cell_type": "markdown",
   "metadata": {},
   "source": [
    "這邊有一份飛機航班的資料，分別記錄了幾個飛機班次的起降時間和機場編號，請大家完成以下任務\n",
    "1. 去除重複的資料\n",
    "2. 針對每一列計算此班班機的飛行時間(flight_length)\n",
    "3. 將資料中飛行時間小於0的列挑選出來\n",
    "\n",
    "### Tips\n",
    "    計算飛行時間時，可以先把資料轉為datetime格式再做計算\n",
    "    飛行時間可用arrive_time - fly_time做計算，並使用pd.Timedelta將單位改為分鐘\n"
   ]
  },
  {
   "cell_type": "code",
   "execution_count": null,
   "metadata": {},
   "outputs": [],
   "source": [
    "csv_path = 'dataset/airline.csv'"
   ]
  },
  {
   "cell_type": "code",
   "execution_count": null,
   "metadata": {},
   "outputs": [],
   "source": []
  },
  {
   "cell_type": "markdown",
   "metadata": {},
   "source": [
    "---\n",
    "理論上飛行時間不會有負數，然而從上面計算出來的結果會發現有小於0的狀況，這是因為我們還沒有對時區差異進行校正。\n",
    "\n",
    "下方提供了機場與時區的資料(df_timezone)，請將df與df_timezone依照起飛機場作合併，接著去做時區校正後的飛行時間。\n",
    "\n",
    "### Tips\n",
    "    你可以先將起飛與降落機場的時區差異計算出來，再依此去校正飛行時間"
   ]
  },
  {
   "cell_type": "code",
   "execution_count": null,
   "metadata": {},
   "outputs": [],
   "source": [
    "df_timezone = pd.read_csv('dataset/time_zone.csv')"
   ]
  },
  {
   "cell_type": "code",
   "execution_count": null,
   "metadata": {},
   "outputs": [],
   "source": []
  },
  {
   "cell_type": "markdown",
   "metadata": {},
   "source": [
    "---\n",
    "# Ted dataset\n",
    "\n",
    "此份資料收集了過去幾年Ted官方網站上上傳的Ted talks影片資訊，包含講題、講者姓名、上傳時間、評論等內容，請大家完成以下任務。\n",
    "\n",
    "1. 繪製出每一年的影片數量長條圖，以影片時間(filmdate)為準\n",
    "2. 挑選dataset中2012年的所有資料，並列出出現次數前五多的tag (請將TEDx這個tag忽略不計)\n",
    "3. 計算有這六個tag的影片與沒有這些tag的影片(不限於2012年)的評論(comments)數量平均，請問兩類影片的平均評論數量是多少?\n",
    "\n",
    "### Tips\n",
    "    與上題相同，你可以先將filmdate轉為pd.datetime格式，再擷取年份的資料\n",
    "    tag欄位紀錄的內容都是文字而非列表形式，你可能需要用到python針對字串處理的功能如split或是strip幫助你清理資料\n",
    "    除了python內建的字串處理函數外，也可以考慮使用pandas.str內使用的函數(ex. pandas.str.contains)\n",
    "\n",
    "[source](https://www.kaggle.com/rounakbanik/ted-talks)"
   ]
  },
  {
   "cell_type": "code",
   "execution_count": null,
   "metadata": {},
   "outputs": [],
   "source": [
    "df_ted = pd.read_csv('dataset/ted.csv')"
   ]
  },
  {
   "cell_type": "code",
   "execution_count": null,
   "metadata": {},
   "outputs": [],
   "source": []
  },
  {
   "cell_type": "markdown",
   "metadata": {},
   "source": [
    "---\n",
    "除了直接觀察每篇文章的評論次數之外，我們也擔心每年TEDx的基本曝光率跟觀看人數會對我們的評估造成影響，為了驗證這個可能性，請大家做以下的幾件事情\n",
    "\n",
    "1. 先將文章評論數量以log做轉換，再繪製每一年log(文章評論數量)的箱形圖，觀察每年的文章評論分布是否有差異\n",
    "2. 為了校正每年的差異，請把每筆資料的comments數量減去年平均，並且將結果新增為comments_correction欄位 (例如: 2015年的資料評論數量平均為118，那每一個在2015年的TEDx影片評論數量都需要減去118)\n",
    "3. 再一次計算有這六個tag的影片與沒有這些tag的影片在comments_correction的平均，並且觀察是否還有差異呢"
   ]
  },
  {
   "cell_type": "code",
   "execution_count": null,
   "metadata": {},
   "outputs": [],
   "source": []
  },
  {
   "cell_type": "code",
   "execution_count": null,
   "metadata": {},
   "outputs": [],
   "source": []
  }
 ],
 "metadata": {
  "kernelspec": {
   "display_name": "Python 3",
   "language": "python",
   "name": "python3"
  },
  "language_info": {
   "codemirror_mode": {
    "name": "ipython",
    "version": 3
   },
   "file_extension": ".py",
   "mimetype": "text/x-python",
   "name": "python",
   "nbconvert_exporter": "python",
   "pygments_lexer": "ipython3",
   "version": "3.7.3"
  }
 },
 "nbformat": 4,
 "nbformat_minor": 4
}
