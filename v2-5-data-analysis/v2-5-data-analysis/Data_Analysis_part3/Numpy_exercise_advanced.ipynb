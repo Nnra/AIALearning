{
 "cells": [
  {
   "cell_type": "markdown",
   "metadata": {},
   "source": [
    "## $\\Large{Numpy\\; Exercise\\; Advanced}$\n",
    "\n",
    "對Numpy的套件使用還熟悉嗎? 以下列了一些更進階的題目，解法可能不只有一種，請大家練習看看吧。解答部分我們會提供參考答案，但只要能夠符合題目要求就是好方法唷。\n",
    "\n",
    "註：有些函數或方法的使用可能需要看官方文件的說明或是額外搜尋作法，希望在這邊也同時培養大家在遇到現階段自己不會的函數時能夠快速搜尋到解決辦法的能力。\n",
    "\n",
    "- [Numpy 官方文件](https://docs.scipy.org/doc/numpy/reference/)"
   ]
  },
  {
   "cell_type": "code",
   "execution_count": null,
   "metadata": {},
   "outputs": [],
   "source": [
    "import numpy as np"
   ]
  },
  {
   "cell_type": "markdown",
   "metadata": {},
   "source": [
    "---\n",
    "# Example Data 1\n",
    "\n",
    "下面記錄了20名助教的身高、體重，為了判斷助教們的身體健康狀況，請計算每一位助教的BMI值並且計算這20名助教們過輕或過重的比例\n",
    "\n",
    "### Tips\n",
    "    根據衛生福利部國民健康署，成人的BMI低於18.5代表過輕，高於24代表過重\n",
    "    最後只需要輸出一個介於0~1的比例"
   ]
  },
  {
   "cell_type": "code",
   "execution_count": null,
   "metadata": {},
   "outputs": [],
   "source": [
    "height = [175, 180, 182, 171, 178, 173, 168, 180, 179, 173, 170, 173, 169, 177, 172, 176, 172, 176, 179, 174]\n",
    "weight = ['69kg', '85kg', '73kg', '56kg', '62kg', '67kg', '61kg', '55kg', '93kg', '80kg', '76kg', '59kg', '70kg', '78kg', '63kg', '73kg', '66kg', '68kg', '63kg', '90kg']"
   ]
  },
  {
   "cell_type": "code",
   "execution_count": null,
   "metadata": {},
   "outputs": [],
   "source": []
  },
  {
   "cell_type": "code",
   "execution_count": null,
   "metadata": {},
   "outputs": [],
   "source": [
    "np.array([[1, 2, 3], [4, 5, 0]])"
   ]
  },
  {
   "cell_type": "markdown",
   "metadata": {},
   "source": [
    "---\n",
    "# Example Data 2\n",
    "\n",
    "請寫出一個函數，在輸入一組數字後，會依照以下規則產生二維陣列。"
   ]
  },
  {
   "cell_type": "code",
   "execution_count": null,
   "metadata": {},
   "outputs": [],
   "source": [
    "# 範例輸入 [5, 2]\n",
    "\n",
    "# 範例輸出 np.array([[1, 2, 3, 4, 5],\n",
    "#                   [1, 2, 0, 0, 0]])\n",
    "\n",
    "\n",
    "# 範例輸入 [2, 4, 3]\n",
    "\n",
    "# 範例輸出 np.array([[1, 2, 0, 0],\n",
    "#                   [1, 2, 3, 4],\n",
    "#                   [1, 2, 3, 0]])"
   ]
  },
  {
   "cell_type": "code",
   "execution_count": null,
   "metadata": {},
   "outputs": [],
   "source": [
    "def list_to_array(number_list):\n"
   ]
  },
  {
   "cell_type": "markdown",
   "metadata": {},
   "source": [
    "---\n",
    "# Image Processing"
   ]
  },
  {
   "cell_type": "markdown",
   "metadata": {},
   "source": [
    "下面已經幫大家將一張照片讀取為np.array物件，我們可以看到目前此圖片是彩色的，請大家使用numpy套件將此圖片改為灰階並呈現出來。\n",
    "\n",
    "### Tips：\n",
    "    \n",
    "    圖片有長、寬、以及色彩，因此讀取成陣列也會有三個維度\n",
    "    此張圖片的長寬皆為316，另外在色彩維度上有RGB(紅、綠、藍)三個色彩的數值，在圖片資料上就是以此代表每個像素(pixel)的顏色\n",
    "    \n",
    "    灰階圖片中，圖片的色彩維度同樣有三個數字(RGB)，只是三個數字的數值皆相同。\n",
    "    在這邊我們可以將彩色圖片原本的色彩數值做平均，就可以得到每個像素中灰階的程度。"
   ]
  },
  {
   "cell_type": "code",
   "execution_count": null,
   "metadata": {},
   "outputs": [],
   "source": [
    "# 載入額外需要使用到的套件\n",
    "import cv2\n",
    "import matplotlib.pyplot as plt\n",
    "%matplotlib inline\n",
    "\n",
    "\n",
    "# 自訂畫圖函數，在此我們預設圖片皆有三個維度，並且不調整cmap參數\n",
    "def plot_image(img):\n",
    "    plt.imshow(img)\n",
    "    plt.show()\n",
    "\n",
    "\n",
    "# 讀取圖片\n",
    "x = cv2.imread('dataset/Lenna.jpg')\n",
    "\n",
    "\n",
    "# 由於圖片有長、寬、以及色彩，因此讀取成陣列也會有三個維度\n",
    "# 我們可以看到此張圖片的長寬皆為316，另外在色彩維度上有RGB三個數值\n",
    "print(x.shape)\n",
    "\n",
    "\n",
    "# 呈現圖片(由於matplotlib預設色彩排序為BGR，我們可以使用排序方式將陣列色彩調整成正確的順序)\n",
    "plot_image(x[:, :, ::-1])"
   ]
  },
  {
   "cell_type": "markdown",
   "metadata": {},
   "source": [
    "- 小提醒 1. 我們需要將原圖中每個像素的RGB的數值做平均以得到灰階的數值\n",
    "- 小提醒 2. 由於畫圖函數預設圖片仍然需要有三個維度，因此需要將平均後的陣列再複製三份並堆疊起來\n",
    "- 小提醒 3. 呈現圖片時函數預設若數值類型為浮點數(float)則應該介於0-1之間，若數值類型為整數(int)則介於0-255之間，因此平均後的陣列需要再做數值區間的縮放或是調整資料型態"
   ]
  }
 ],
 "metadata": {
  "kernelspec": {
   "display_name": "Python 3",
   "language": "python",
   "name": "python3"
  },
  "language_info": {
   "codemirror_mode": {
    "name": "ipython",
    "version": 3
   },
   "file_extension": ".py",
   "mimetype": "text/x-python",
   "name": "python",
   "nbconvert_exporter": "python",
   "pygments_lexer": "ipython3",
   "version": "3.7.3"
  }
 },
 "nbformat": 4,
 "nbformat_minor": 4
}
